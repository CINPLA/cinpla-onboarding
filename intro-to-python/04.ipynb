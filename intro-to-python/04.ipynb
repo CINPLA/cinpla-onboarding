{
 "cells": [
  {
   "cell_type": "markdown",
   "metadata": {},
   "source": [
    "## Dictionaries (5 min)"
   ]
  },
  {
   "cell_type": "markdown",
   "metadata": {},
   "source": [
    "Dictionaries are mappings between keys and items stored in the dictionaries. Alternatively one can think of dictionaries as sets in which something stored against every element of the set. They can be defined as follows:"
   ]
  },
  {
   "cell_type": "markdown",
   "metadata": {},
   "source": [
    "Dictionaries can be defined by using the `{ key : value }` syntax. The following dictionary has four elements:"
   ]
  },
  {
   "cell_type": "code",
   "execution_count": 19,
   "metadata": {
    "collapsed": false
   },
   "outputs": [
    {
     "name": "stdout",
     "output_type": "stream",
     "text": [
      "{'mac': 10, 'windows': -2, 'linux': 24}\n"
     ]
    }
   ],
   "source": [
    "computers = {\n",
    "    \"linux\": 24,\n",
    "    \"windows\": -2,\n",
    "    \"mac\": 10\n",
    "}\n",
    "print(computers)"
   ]
  },
  {
   "cell_type": "markdown",
   "metadata": {},
   "source": [
    "We can now access an element in the dictionary:"
   ]
  },
  {
   "cell_type": "code",
   "execution_count": 20,
   "metadata": {
    "collapsed": false
   },
   "outputs": [
    {
     "name": "stdout",
     "output_type": "stream",
     "text": [
      "24\n"
     ]
    }
   ],
   "source": [
    "print(computers[\"linux\"])"
   ]
  },
  {
   "cell_type": "markdown",
   "metadata": {},
   "source": [
    "Dictionaries can also be complex, with a hierarchy of elements:"
   ]
  },
  {
   "cell_type": "code",
   "execution_count": 21,
   "metadata": {
    "collapsed": false
   },
   "outputs": [
    {
     "name": "stdout",
     "output_type": "stream",
     "text": [
      "{'Andreas': {'language': 'Matlab', 'age': 27}, 'Mikkel': {'language': 'Vimscript (deprecated)', 'age': 'old'}, 'Milad': {'language': ['C++', 'Python', 'Persian'], 'age': None}, 'Simen': {'language': 'Python', 'age': 29}}\n"
     ]
    }
   ],
   "source": [
    "members = {\n",
    "    \"Simen\": {\n",
    "        \"age\": 29,\n",
    "        \"language\": \"Python\",\n",
    "    },\n",
    "    \"Andreas\": {\n",
    "        \"age\": 27,\n",
    "        \"language\": \"Matlab\",\n",
    "    },\n",
    "    \"Milad\": {\n",
    "        \"age\": None,\n",
    "        \"language\": [\n",
    "            \"C++\",\n",
    "            \"Python\",\n",
    "            \"Persian\",\n",
    "        ]\n",
    "    },\n",
    "    \"Mikkel\": {\n",
    "        \"age\": \"old\",\n",
    "        \"language\": \"Vimscript (deprecated)\"\n",
    "    },\n",
    "}\n",
    "print(members)"
   ]
  },
  {
   "cell_type": "markdown",
   "metadata": {},
   "source": [
    "And we can still access one of the elements:"
   ]
  },
  {
   "cell_type": "code",
   "execution_count": 22,
   "metadata": {
    "collapsed": false
   },
   "outputs": [
    {
     "name": "stdout",
     "output_type": "stream",
     "text": [
      "{'language': 'Vimscript (deprecated)', 'age': 'old'}\n"
     ]
    }
   ],
   "source": [
    "print(members[\"Mikkel\"])"
   ]
  }
 ],
 "metadata": {
  "celltoolbar": "Raw Cell Format",
  "kernelspec": {
   "display_name": "Python 3",
   "language": "python",
   "name": "python3"
  },
  "language_info": {
   "codemirror_mode": {
    "name": "ipython",
    "version": 3
   },
   "file_extension": ".py",
   "mimetype": "text/x-python",
   "name": "python",
   "nbconvert_exporter": "python",
   "pygments_lexer": "ipython3",
   "version": "3.5.2"
  }
 },
 "nbformat": 4,
 "nbformat_minor": 0
}
